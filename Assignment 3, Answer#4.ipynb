{
 "cells": [
  {
   "cell_type": "code",
   "execution_count": 1,
   "metadata": {},
   "outputs": [
    {
     "name": "stdout",
     "output_type": "stream",
     "text": [
      "Sum =  123.98\n"
     ]
    }
   ],
   "source": [
    "sum = 0\n",
    "my_dict = {1: 2 ,\n",
    "           2: \"aalim\", \n",
    "           3: 65.09, \n",
    "           4:\"banana\",\n",
    "           5: 56.89}\n",
    "\n",
    "for value in my_dict.values():\n",
    "    if type(value) == int or type(value) == float:\n",
    "        sum = sum + value        \n",
    "        \n",
    "print(\"Sum = \",sum)"
   ]
  },
  {
   "cell_type": "code",
   "execution_count": null,
   "metadata": {},
   "outputs": [],
   "source": []
  }
 ],
 "metadata": {
  "kernelspec": {
   "display_name": "Python 3",
   "language": "python",
   "name": "python3"
  },
  "language_info": {
   "codemirror_mode": {
    "name": "ipython",
    "version": 3
   },
   "file_extension": ".py",
   "mimetype": "text/x-python",
   "name": "python",
   "nbconvert_exporter": "python",
   "pygments_lexer": "ipython3",
   "version": "3.7.4"
  }
 },
 "nbformat": 4,
 "nbformat_minor": 2
}
