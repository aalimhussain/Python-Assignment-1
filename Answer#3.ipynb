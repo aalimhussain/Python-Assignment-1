{
 "cells": [
  {
   "cell_type": "code",
   "execution_count": 1,
   "metadata": {},
   "outputs": [
    {
     "name": "stdout",
     "output_type": "stream",
     "text": [
      "Current date and time :\n",
      "2019-11-05  18:55:12\n"
     ]
    }
   ],
   "source": [
    "import datetime\n",
    "\"\"\"\n",
    "The datetime module supplies classes for manipulating \n",
    "dates and times in both simple and complex ways. datetime.now() \n",
    "returns the current local date and time.\n",
    "\n",
    "date.strftime(format) returns a string representing the date, controlled \n",
    "by an explicit format string. Format codes referring to hours, minutes \n",
    "or seconds will see 0 values.\n",
    "\"\"\"\n",
    "now = datetime.datetime.now()\n",
    "print(\"Current date and time :\")\n",
    "print(now.strftime(\"%Y-%m-%d  %H:%M:%S\"))"
   ]
  },
  {
   "cell_type": "code",
   "execution_count": null,
   "metadata": {},
   "outputs": [],
   "source": []
  }
 ],
 "metadata": {
  "kernelspec": {
   "display_name": "Python 3",
   "language": "python",
   "name": "python3"
  },
  "language_info": {
   "codemirror_mode": {
    "name": "ipython",
    "version": 3
   },
   "file_extension": ".py",
   "mimetype": "text/x-python",
   "name": "python",
   "nbconvert_exporter": "python",
   "pygments_lexer": "ipython3",
   "version": "3.7.4"
  }
 },
 "nbformat": 4,
 "nbformat_minor": 2
}
