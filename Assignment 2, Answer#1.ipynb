{
 "cells": [
  {
   "cell_type": "code",
   "execution_count": 1,
   "metadata": {},
   "outputs": [
    {
     "name": "stdout",
     "output_type": "stream",
     "text": [
      "Enter first subject marks: 67\n",
      "Enter second subject marks: 91\n",
      "Enter third subject marks: 83\n",
      "Enter fourth subject marks: 76\n",
      "Enter fifth subject marks: 87\n",
      "Total: \n",
      "78\n",
      "Grade: A\n"
     ]
    }
   ],
   "source": [
    "subject1=int(input(\"Enter first subject marks: \"))\n",
    "subject2=int(input(\"Enter second subject marks: \"))\n",
    "subject3=int(input(\"Enter third subject marks: \"))\n",
    "subject4=int(input(\"Enter fourth subject marks: \"))\n",
    "subject5=int(input(\"Enter fifth subject marks: \"))\n",
    "total=(subject1+subject2+subject3+subject4+subject4)//5\n",
    "print(\"Total: \")\n",
    "print(total)\n",
    "if(total>=90):\n",
    "    print(\"Grade: A+\")\n",
    "elif(total>=80&total<90):\n",
    "    print(\"Grade: A\")\n",
    "elif(total>=70&total<80):\n",
    "    print(\"Grade: B\")\n",
    "elif(total>=60&total<70):\n",
    "    print(\"Grade: C\")\n",
    "else:\n",
    "    print(\"Grade: F\")"
   ]
  },
  {
   "cell_type": "code",
   "execution_count": null,
   "metadata": {},
   "outputs": [],
   "source": []
  }
 ],
 "metadata": {
  "kernelspec": {
   "display_name": "Python 3",
   "language": "python",
   "name": "python3"
  },
  "language_info": {
   "codemirror_mode": {
    "name": "ipython",
    "version": 3
   },
   "file_extension": ".py",
   "mimetype": "text/x-python",
   "name": "python",
   "nbconvert_exporter": "python",
   "pygments_lexer": "ipython3",
   "version": "3.7.4"
  }
 },
 "nbformat": 4,
 "nbformat_minor": 2
}
