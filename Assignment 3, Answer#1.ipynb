{
 "cells": [
  {
   "cell_type": "code",
   "execution_count": 1,
   "metadata": {},
   "outputs": [
    {
     "name": "stdout",
     "output_type": "stream",
     "text": [
      "Enter first number 3\n",
      "Enter second number 5\n",
      "Enter any operator **\n",
      "Answer=  243\n"
     ]
    }
   ],
   "source": [
    "val1=int(input(\"Enter first number \"))\n",
    "val2=int(input(\"Enter second number \"))\n",
    "operator=input(\"Enter any operator \")\n",
    "if operator == \"+\":\n",
    "    val=val1+val2\n",
    "    print(\"Answer= \",val)\n",
    "elif operator == \"-\":\n",
    "    val=val1-val2\n",
    "    print(\"Answer= \",val)\n",
    "elif operator == \"*\":\n",
    "    val=val1*val2\n",
    "    print(\"Answer= \",val)\n",
    "elif operator == \"/\":\n",
    "    val=val1/val2\n",
    "    print(\"Answer= \",val)\n",
    "elif operator == \"**\":\n",
    "    val=val1**val2\n",
    "    print(\"Answer= \",val)\n",
    "else:\n",
    "    print(\"Enter correct operator\")"
   ]
  },
  {
   "cell_type": "code",
   "execution_count": null,
   "metadata": {},
   "outputs": [],
   "source": []
  }
 ],
 "metadata": {
  "kernelspec": {
   "display_name": "Python 3",
   "language": "python",
   "name": "python3"
  },
  "language_info": {
   "codemirror_mode": {
    "name": "ipython",
    "version": 3
   },
   "file_extension": ".py",
   "mimetype": "text/x-python",
   "name": "python",
   "nbconvert_exporter": "python",
   "pygments_lexer": "ipython3",
   "version": "3.7.4"
  }
 },
 "nbformat": 4,
 "nbformat_minor": 2
}
