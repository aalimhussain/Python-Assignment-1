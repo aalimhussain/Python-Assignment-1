{
 "cells": [
  {
   "cell_type": "code",
   "execution_count": 1,
   "metadata": {},
   "outputs": [
    {
     "name": "stdout",
     "output_type": "stream",
     "text": [
      "{'name': 'aalim', 'age': 26, 'address': 'karachi'}\n",
      "Enter any key you want to search name\n",
      "Key exits\n"
     ]
    }
   ],
   "source": [
    "my_dict = {'name': 'aalim', 'age': 26, 'address': 'karachi'}  \n",
    "print(my_dict)\n",
    "key = input(\"Enter any key you want to search \")\n",
    "if key in my_dict.keys():\n",
    "    print(\"Key exits\")\n",
    "else:\n",
    "    print(\"Key does not exits\")"
   ]
  },
  {
   "cell_type": "code",
   "execution_count": null,
   "metadata": {},
   "outputs": [],
   "source": []
  }
 ],
 "metadata": {
  "kernelspec": {
   "display_name": "Python 3",
   "language": "python",
   "name": "python3"
  },
  "language_info": {
   "codemirror_mode": {
    "name": "ipython",
    "version": 3
   },
   "file_extension": ".py",
   "mimetype": "text/x-python",
   "name": "python",
   "nbconvert_exporter": "python",
   "pygments_lexer": "ipython3",
   "version": "3.7.4"
  }
 },
 "nbformat": 4,
 "nbformat_minor": 2
}
