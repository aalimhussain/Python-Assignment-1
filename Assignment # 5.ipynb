{
 "cells": [
  {
   "cell_type": "code",
   "execution_count": 1,
   "metadata": {},
   "outputs": [
    {
     "name": "stdout",
     "output_type": "stream",
     "text": [
      "Enter any number : 7\n",
      "Factorial is  5040\n"
     ]
    }
   ],
   "source": [
    "'''\n",
    "Write a Python function to calculate the factorial of a number \n",
    "(a non-negative integer). The function accepts the number \n",
    "as an argument. \n",
    "'''\n",
    "def factorial(n):\n",
    "    if n == 0:\n",
    "        return 1\n",
    "    else:\n",
    "        return n * factorial(n-1)\n",
    "n=int(input(\"Enter any number : \"))\n",
    "print(\"Factorial is \", factorial(n))"
   ]
  },
  {
   "cell_type": "code",
   "execution_count": 2,
   "metadata": {},
   "outputs": [
    {
     "name": "stdout",
     "output_type": "stream",
     "text": [
      "Enter any string: AalIM\n",
      "There are 3 uppercase letter and 2 lowercase letter in this string\n"
     ]
    }
   ],
   "source": [
    "'''\n",
    "Write a Python function that accepts a string and calculate \n",
    "the number of upper case letters and lower case letters. \n",
    "'''\n",
    "upper = 0\n",
    "lower = 0\n",
    "string = input(\"Enter any string: \")\n",
    "for s in string:\n",
    "    if s >= 'a' and s <= 'z':\n",
    "        lower+=1\n",
    "    elif s >= 'A' and s <= 'Z':\n",
    "        upper+=1\n",
    "        \n",
    "print(\"There are\", upper, \"uppercase letter and\", lower, \"lowercase letter in this string\")"
   ]
  },
  {
   "cell_type": "code",
   "execution_count": 3,
   "metadata": {},
   "outputs": [
    {
     "name": "stdout",
     "output_type": "stream",
     "text": [
      "10\n",
      "14\n",
      "4\n",
      "38\n",
      "66\n"
     ]
    }
   ],
   "source": [
    "'''\n",
    "Write a Python function to print the even numbers from a given list. \n",
    "'''\n",
    "list = [10, 7, 21, 14, 4, 45, 38, 66, 83] \n",
    "for num in list: \n",
    "    if num % 2 == 0: \n",
    "       print(num) "
   ]
  },
  {
   "cell_type": "code",
   "execution_count": 4,
   "metadata": {},
   "outputs": [
    {
     "name": "stdout",
     "output_type": "stream",
     "text": [
      "Enter any string : madam\n",
      "String is Palindrome\n"
     ]
    }
   ],
   "source": [
    "'''\n",
    "Write a Python function that checks whether a passed string is palindrome \n",
    "or not. Note: A palindrome is a word, phrase, or sequence that reads the \n",
    "same backward as forward, e.g., madam \n",
    "'''\n",
    "string = input(\"Enter any string : \")\n",
    "reverse = string[::-1]\n",
    "if string == reverse:\n",
    "    print(\"String is Palindrome\")\n",
    "else:\n",
    "    print(\"String is not Palindrome\")"
   ]
  },
  {
   "cell_type": "code",
   "execution_count": 5,
   "metadata": {},
   "outputs": [
    {
     "name": "stdout",
     "output_type": "stream",
     "text": [
      "True\n"
     ]
    }
   ],
   "source": [
    "'''\n",
    "Write a Python function that takes a number as a \n",
    "parameter and check the number is prime or not. \n",
    "'''\n",
    "def prime(n):\n",
    "    if (n==1):\n",
    "        return False\n",
    "    elif (n==2):\n",
    "        return True;\n",
    "    else:\n",
    "        for x in range(2,n):\n",
    "            if(n % x==0):\n",
    "                return False\n",
    "        return True     \n",
    "print(prime(7))"
   ]
  },
  {
   "cell_type": "code",
   "execution_count": 6,
   "metadata": {},
   "outputs": [
    {
     "name": "stdout",
     "output_type": "stream",
     "text": [
      "Enter items user bought from market : Eggs, Mangoes, Banana, Waffers, Jam\n",
      "('Eggs, Mangoes, Banana, Waffers, Jam',)\n"
     ]
    }
   ],
   "source": [
    "'''\n",
    "Suppose a customer is shopping in a market and you need to print \n",
    "all the items which user bought from market. Write a function which \n",
    "accepts the multiple arguments of user shopping list and print all \n",
    "the items which user bought from market.\n",
    "'''\n",
    "def shopping(*items):\n",
    "    print(items)\n",
    "shopping(input(\"Enter items user bought from market : \"))"
   ]
  },
  {
   "cell_type": "code",
   "execution_count": null,
   "metadata": {},
   "outputs": [],
   "source": []
  }
 ],
 "metadata": {
  "kernelspec": {
   "display_name": "Python 3",
   "language": "python",
   "name": "python3"
  },
  "language_info": {
   "codemirror_mode": {
    "name": "ipython",
    "version": 3
   },
   "file_extension": ".py",
   "mimetype": "text/x-python",
   "name": "python",
   "nbconvert_exporter": "python",
   "pygments_lexer": "ipython3",
   "version": "3.7.4"
  }
 },
 "nbformat": 4,
 "nbformat_minor": 2
}
