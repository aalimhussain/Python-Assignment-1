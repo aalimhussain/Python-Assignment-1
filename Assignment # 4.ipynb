{
 "cells": [
  {
   "cell_type": "code",
   "execution_count": 1,
   "metadata": {},
   "outputs": [
    {
     "name": "stdout",
     "output_type": "stream",
     "text": [
      "{'first_name': 'S M Aalim', 'last_name': 'Hussain', 'age': 20, 'city': 'Karachi'}\n",
      "Enter your Qualification: Inter\n",
      "Dictionary after adding a new key value\n",
      "{'first_name': 'S M Aalim', 'last_name': 'Hussain', 'age': 20, 'city': 'Karachi', 'qualification': 'Inter'}\n",
      "Enter your High Academic Level: Bachelors\n",
      "Dictionary after updating qualification to high academic level\n",
      "{'first_name': 'S M Aalim', 'last_name': 'Hussain', 'age': 20, 'city': 'Karachi', 'qualification': 'Bachelors'}\n",
      "Dictionary after deletion \n",
      "{'first_name': 'S M Aalim', 'last_name': 'Hussain', 'age': 20, 'city': 'Karachi'}\n"
     ]
    }
   ],
   "source": [
    "\"\"\"\n",
    "Use a dictionary to store information about a person you know. Store their first name, \n",
    "last name, age, and the city in which they live. You should have keys such as first_name, \n",
    "last_name, age, and city. Print each piece of information stored in your dictionary. Add \n",
    "a new key value pair about qualification then update the qualification value to high \n",
    "academic level then delete it.\n",
    "\"\"\"\n",
    "person = {\"first_name\": \"S M Aalim\", \"last_name\": \"Hussain\", \"age\": 20, \"city\": \"Karachi\"}\n",
    "print(person)\n",
    "qualification = input(\"Enter your Qualification: \")\n",
    "person[\"qualification\"] = qualification\n",
    "print(\"Dictionary after adding a new key value\")\n",
    "print(person)\n",
    "update = input(\"Enter your High Academic Level: \")\n",
    "person[\"qualification\"] = update\n",
    "print(\"Dictionary after updating qualification to high academic level\")\n",
    "print(person)\n",
    "del person[\"qualification\"]\n",
    "print(\"Dictionary after deletion \")\n",
    "print(person)"
   ]
  },
  {
   "cell_type": "code",
   "execution_count": 2,
   "metadata": {},
   "outputs": [
    {
     "name": "stdout",
     "output_type": "stream",
     "text": [
      "{'Karachi': {'Country': 'Pakistan', 'Population': '14,916,456', 'Fact': 'The city of lights.'}, 'Lahore': {'Country': 'Pakistan', 'Population': '11,126,285', 'Fact': 'The second largest city of Pakistan.'}, 'Peshawar': {'Country': 'Pakistan', 'Population': '3,405,414', 'Fact': 'The oldest cities in the world.'}}\n"
     ]
    }
   ],
   "source": [
    "\"\"\"\n",
    "Make a dictionary called cities. Use the names of three cities as keys in your dictionary. \n",
    "Create a dictionary of information about each city and include the country that the city is \n",
    "in, its approximate population, and one fact about that city. The keys for each city’s \n",
    "dictionary should be something like country, population, and fact. Print the name of each \n",
    "city and all of the information you have stored about it.\n",
    "\"\"\"\n",
    "cities={\n",
    "    \"Karachi\":{\n",
    "        \"Country\" : \"Pakistan\",\n",
    "        \"Population\" : \"14,916,456\",\n",
    "        \"Fact\" : \"The city of lights.\",\n",
    "    },\n",
    "    \"Lahore\":{\n",
    "        \"Country\" : \"Pakistan\",\n",
    "        \"Population\" : \"11,126,285\",\n",
    "        \"Fact\" : \"The second largest city of Pakistan.\",\n",
    "     },\n",
    "    \"Peshawar\":{\n",
    "        \"Country\" : \"Pakistan\",\n",
    "        \"Population\" : \"3,405,414\",\n",
    "        \"Fact\" : \"The oldest cities in the world.\",\n",
    "    }\n",
    "    }\n",
    "print(cities)"
   ]
  },
  {
   "cell_type": "code",
   "execution_count": 3,
   "metadata": {},
   "outputs": [
    {
     "name": "stdout",
     "output_type": "stream",
     "text": [
      "Enter age: 11\n",
      "Cost of movie ticket is: $ 10\n"
     ]
    }
   ],
   "source": [
    "\"\"\"\n",
    "A movie theater charges different ticket prices depending on a person’s age. \n",
    "If a person is under the age of 3, the ticket is free; if they are between 3 \n",
    "and 12, the ticket is $10; and if they are over age 12, the ticket is $15. \n",
    "Write a loop in which you ask users their age, and then tell them the cost \n",
    "of their movie ticket.\n",
    "\"\"\"\n",
    "while True:\n",
    "    age = int(input(\"Enter age: \"))\n",
    "    if age < 3:\n",
    "        cost = 0\n",
    "    elif age >= 3 and age <= 12:\n",
    "        cost =  10\n",
    "    else:\n",
    "        cost = 15\n",
    "    print(\"Cost of movie ticket is: $\", cost)\n",
    "    break"
   ]
  },
  {
   "cell_type": "code",
   "execution_count": 4,
   "metadata": {},
   "outputs": [
    {
     "name": "stdout",
     "output_type": "stream",
     "text": [
      "One of my favorite books is Alice in Wonderland.\n"
     ]
    }
   ],
   "source": [
    "\"\"\"\n",
    "Write a function called favorite_book() that accepts one parameter, \n",
    "title. The function should print a message, such as One of my favorite \n",
    "books is Alice in Wonderland. Call the function, making sure to include \n",
    "a book title as an argument in the function call.\n",
    "\"\"\"\n",
    "def favorite_book(title):\n",
    "  \n",
    "    print(\"One of my favorite books is\" + title )\n",
    "\n",
    "favorite_book(\" Alice in Wonderland.\")"
   ]
  },
  {
   "cell_type": "code",
   "execution_count": 5,
   "metadata": {},
   "outputs": [
    {
     "name": "stdout",
     "output_type": "stream",
     "text": [
      "Guess a number between 1 and 30\n",
      "21\n",
      "Choose a greater number\n",
      "Guess a number between 1 and 30\n",
      "23\n",
      "Choose a greater number\n",
      "Guess a number between 1 and 30\n",
      "25\n",
      "Choose a greater number\n",
      "You Loss !!!\n"
     ]
    }
   ],
   "source": [
    "\"\"\"\n",
    "Guess the number game\n",
    "Write a program which randomly generate a number between 1 to \n",
    "30 and ask the user in input field to guess the correct number. \n",
    "Give three chances to user guess the number and also give hint \n",
    "to user if hidden number is greater or smaller than the number \n",
    "he given to input field.\n",
    "\"\"\"\n",
    "import random\n",
    "num = random.randint(1, 30)\n",
    "for n in range(3):\n",
    "    print(\"Guess a number between 1 and 30\")\n",
    "    guess = input()\n",
    "    i = int(guess)\n",
    "    if i == num:\n",
    "        print(\"You win !!!\")\n",
    "        break\n",
    "    elif i < num:\n",
    "        print(\"Choose a greater number\")\n",
    "    elif i > num:\n",
    "        print(\"Choose a smaller number\")\n",
    "else:\n",
    "    print(\"You Loss !!!\")"
   ]
  },
  {
   "cell_type": "code",
   "execution_count": null,
   "metadata": {},
   "outputs": [],
   "source": []
  }
 ],
 "metadata": {
  "kernelspec": {
   "display_name": "Python 3",
   "language": "python",
   "name": "python3"
  },
  "language_info": {
   "codemirror_mode": {
    "name": "ipython",
    "version": 3
   },
   "file_extension": ".py",
   "mimetype": "text/x-python",
   "name": "python",
   "nbconvert_exporter": "python",
   "pygments_lexer": "ipython3",
   "version": "3.7.4"
  }
 },
 "nbformat": 4,
 "nbformat_minor": 2
}
